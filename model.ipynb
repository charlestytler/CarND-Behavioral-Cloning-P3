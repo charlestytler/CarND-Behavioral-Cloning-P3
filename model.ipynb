{
 "cells": [
  {
   "cell_type": "markdown",
   "metadata": {},
   "source": [
    "# Behavioral Cloning - Deep Learning Model\n",
    "\n"
   ]
  },
  {
   "cell_type": "code",
   "execution_count": 8,
   "metadata": {
    "scrolled": false
   },
   "outputs": [
    {
     "name": "stdout",
     "output_type": "stream",
     "text": [
      "Standard Deviation of angles =  6.32666353942\n"
     ]
    },
    {
     "data": {
      "image/png": "[encoded data removed]",
      "text/plain": [
       "<matplotlib.figure.Figure at 0x7f1a0c3c4c50>"
      ]
     },
     "metadata": {},
     "output_type": "display_data"
    },
    {
     "data": {
      "image/png": "[encoded data removed]",
      "text/plain": [
       "<matplotlib.figure.Figure at 0x7f196d754b00>"
      ]
     },
     "metadata": {},
     "output_type": "display_data"
    }
   ],
   "source": [
    "### Load csv file containing image file paths and associated steering angles\n",
    "\n",
    "import numpy as np\n",
    "import tensorflow as tf\n",
    "import os\n",
    "import csv\n",
    "import sklearn\n",
    "import matplotlib.mlab as mlab\n",
    "import matplotlib.pyplot as plt\n",
    "%matplotlib inline\n",
    "\n",
    "DATA_DIR = '../linux_sim/DriveALL/'\n",
    "\n",
    "samples = []\n",
    "with open(DATA_DIR + 'driving_log.csv') as csvfile:\n",
    "    reader = csv.reader(csvfile)\n",
    "    for line in reader:\n",
    "        samples.append(line)\n",
    "\n",
    "\n",
    "# Plot histogram of steering angle in data\n",
    "samples = sklearn.utils.shuffle(samples)\n",
    "list_steering_angles = [57.3*float(sample[3]) for sample in samples]\n",
    "\n",
    "\n",
    "data_std = np.std(list_steering_angles)\n",
    "print('Standard Deviation of angles = ',data_std)\n",
    "n_normal, bins, patches = plt.hist(data_std * np.random.randn(int(1.3*len(list_steering_angles))),bins=range(-25,26,2))\n",
    "\n",
    "n_data, bins, patches = plt.hist(list_steering_angles,bins=range(-25,26,2))\n",
    "plt.axis([-25,25,0,1500])\n",
    "plt.title('Representation of Steering Angles in Training Data')\n",
    "plt.xlabel('Steering Angle (deg)')\n",
    "plt.legend(['Randomly generated normal distribution','Training data set distribution'],loc='best')\n",
    "\n",
    "\n",
    "# Duplicate and delete data points to form a more normal distribution of steering angles\n",
    "list_to_remove = []\n",
    "for b in range(1,len(bins)-1):\n",
    "    if n_normal[b] < 5:\n",
    "        percent_off = 0   #Avoid dividing by zero, and small bins\n",
    "    else:\n",
    "        percent_off = (n_data[b] - n_normal[b]) / n_normal[b]\n",
    "    \n",
    "    idx = 0\n",
    "    while abs(percent_off) > 0.10:\n",
    "        \n",
    "        # find next index within current bin\n",
    "        if bins[b] < list_steering_angles[idx] and list_steering_angles[idx] < bins[b+1]:\n",
    "            \n",
    "            # Duplicate or remove data sample to get closer to normal distribution\n",
    "            if percent_off < 0:\n",
    "                # Duplicate sample\n",
    "                samples.append(samples[idx])\n",
    "                # Update percent_off\n",
    "                percent_off = (percent_off * n_normal[b] + 1) / n_normal[b]\n",
    "                #print('Sample added to bin', bins[b]/57.3)\n",
    "                #print('Value = ',list_steering_angles[idx]/57.3)\n",
    "                #print(samples[idx])\n",
    "                \n",
    "            elif percent_off > 0:\n",
    "                #print('Sample removed from bin', bins[b]/57.3)\n",
    "                #print('Value = ',list_steering_angles[idx]/57.3)\n",
    "                #print(samples[idx])\n",
    "                # Remove sample\n",
    "                list_to_remove.append(idx)\n",
    "                # Update percent_off\n",
    "                percent_off = (percent_off * n_normal[b] - 1) / n_normal[b]\n",
    "                \n",
    "            \n",
    "        # Advance index\n",
    "        idx += 1\n",
    "        \n",
    "        # Loop back through list if necessary\n",
    "        if idx == len(list_steering_angles):\n",
    "            idx = 0\n",
    "\n",
    "\n",
    "#for idx in sorted(list_to_remove, reverse=True):\n",
    "    #del(samples[idx])\n",
    "\n",
    "samples = sklearn.utils.shuffle(samples)\n",
    "    \n",
    "\n",
    "# Replot histogram of updated samples set\n",
    "plt.figure()\n",
    "list_steering_angles = [57.3*float(sample[3]) for sample in samples]\n",
    "plt.hist(list_steering_angles,bins=range(-25,26,2))\n",
    "plt.hist(list_steering_angles,bins=range(-25,26,2))\n",
    "plt.axis([-25,25,0,1500])\n",
    "plt.title('New Distribution of Training Data')\n",
    "plt.xlabel('Steering Angle (deg)')\n",
    "            \n",
    "\n",
    "from sklearn.model_selection import train_test_split\n",
    "train_samples, validation_samples = train_test_split(samples, test_size=0.2)\n",
    "\n",
    "\n",
    "\n"
   ]
  },
  {
   "cell_type": "markdown",
   "metadata": {},
   "source": [
    "### Data Augmentation Functions\n",
    "Functions which may be called in the batch generator below for data augmentation to increase variablity in the training set. Each function applies their transformations with randomness."
   ]
  },
  {
   "cell_type": "code",
   "execution_count": 9,
   "metadata": {
    "collapsed": true
   },
   "outputs": [],
   "source": [
    "from numpy.random import rand\n",
    "\n",
    "def image_offset(image):\n",
    "    # Applies both a random vertical and random lateral offset to image\n",
    "    # Pixels within the frame which no longer contain the image will be set to [0,0,0] (black)\n",
    "    # Lateral offsets will return corresponding delta steering angle shift, no shift for vertical offsets\n",
    "    \n",
    "    VERT_RANGE = 50\n",
    "    LAT_RANGE = 50\n",
    "    \n",
    "    vert_offset = (rand() - 0.5) * VERT_RANGE\n",
    "    lat_offset = (rand() - 0.5) * LAT_RANGE\n",
    "    \n",
    "    # Delta steering angle is a linear function of lateral offset\n",
    "    delta_angle = -0.009 * lat_offset\n",
    "    \n",
    "    # Offset image with OpenCV Translation\n",
    "    rows,cols,chan = image.shape\n",
    "    M = np.float32([[1,0,lat_offset],[0,1,vert_offset]])  #transformation matrix\n",
    "    offset_image = cv2.warpAffine(image,M,(cols,rows))\n",
    "    \n",
    "    return offset_image, delta_angle\n",
    "    \n",
    "\n",
    "def image_rotate(image):\n",
    "    # Rotates image by a random angle within +/-20 degrees, no steering angle change\n",
    "    \n",
    "    MAX_ROTATION = 20  #degrees\n",
    "    \n",
    "    rotation_angle = (rand() - 0.5) * 2 * MAX_ROTATION\n",
    "    \n",
    "    # Rotate image with OpenCV Rotation\n",
    "    rows,cols,chan = image.shape\n",
    "    M = cv2.getRotationMatrix2D((cols/2,rows/2), rotation_angle, 1)  #rotation matrix (about center, scale = 1)\n",
    "    rotated_image = cv2.warpAffine(image,M,(cols,rows))\n",
    "    \n",
    "    return rotated_image\n",
    "\n",
    "\n",
    "def image_flip(image):\n",
    "    # Flips an image horizontally with a random probability\n",
    "    # Returns sign of the steering angle due to flip/no-flip\n",
    "    \n",
    "    FLIP_PROB = 0.5\n",
    "    \n",
    "    if rand() < FLIP_PROB:\n",
    "        flipped_image = cv2.flip(image,1)\n",
    "        return flipped_image, -1\n",
    "    else:\n",
    "        return image, 1\n",
    "\n",
    "\n",
    "    "
   ]
  },
  {
   "cell_type": "markdown",
   "metadata": {},
   "source": [
    "### Data Preprocessing Functions\n",
    "Functions to preprocess images before being input to the model"
   ]
  },
  {
   "cell_type": "code",
   "execution_count": 10,
   "metadata": {
    "collapsed": true
   },
   "outputs": [],
   "source": [
    "\n",
    "def image_mask(image):\n",
    "    # Masks regions of the image which may contain distracting/unnecessary content\n",
    "    \n",
    "    masked_image = image.copy()\n",
    "    \n",
    "    return masked_image\n",
    "\n",
    "    "
   ]
  },
  {
   "cell_type": "markdown",
   "metadata": {},
   "source": [
    "### Batch Generator\n",
    "Loads each batch of training data as needed. Data augmentation and preprocessing will be applied as the data is loaded."
   ]
  },
  {
   "cell_type": "code",
   "execution_count": 11,
   "metadata": {
    "collapsed": true
   },
   "outputs": [],
   "source": [
    "import cv2\n",
    "import sklearn\n",
    "\n",
    "BATCH_SIZE = 16\n",
    "\n",
    "def generator(samples, batch_size=BATCH_SIZE):\n",
    "    num_samples = len(samples)\n",
    "    while 1: # Loop forever so the generator never terminates\n",
    "        \n",
    "        sklearn.utils.shuffle(samples)\n",
    "        \n",
    "        # Generate batch of data\n",
    "        for offset in range(0, num_samples, batch_size):\n",
    "            batch_samples = samples[offset:offset+batch_size]\n",
    "\n",
    "            images = []\n",
    "            angles = []\n",
    "            for batch_sample in batch_samples:\n",
    "                # Extract steering angle\n",
    "                center_angle = float(batch_sample[3])\n",
    "                \n",
    "                # Load image\n",
    "                random_value = rand()\n",
    "                if random_value < 0.333: \n",
    "                    center_name = DATA_DIR+'IMG/'+batch_sample[0].split('/')[-1]\n",
    "                    car_image = cv2.imread(center_name)\n",
    "                    steer_angle = center_angle\n",
    "                elif random_value < 0.667:\n",
    "                    left_name = DATA_DIR+'IMG/'+batch_sample[1].split('/')[-1]\n",
    "                    car_image = cv2.imread(left_name)\n",
    "                    steer_angle = center_angle + 0.25\n",
    "                else:\n",
    "                    right_name = DATA_DIR+'IMG/'+batch_sample[2].split('/')[-1]\n",
    "                    car_image = cv2.imread(right_name)\n",
    "                    steer_angle = center_angle - 0.25\n",
    "                \n",
    "                \n",
    "                \n",
    "                ### Data augmentation\n",
    "\n",
    "                # Flip image\n",
    "                car_image, sign_angle = image_flip(car_image)\n",
    "                steer_angle = sign_angle * steer_angle\n",
    "\n",
    "                # Lateral & Vertical Offsets\n",
    "                car_image, delta_angle = image_offset(car_image)\n",
    "                steer_angle = steer_angle + delta_angle \n",
    "\n",
    "\n",
    "\n",
    "                # Limit steering angle to +/-25deg (=0.4363 rad)\n",
    "                steer_angle = min(0.4363, max(-0.4363, steer_angle))\n",
    "                \n",
    "                images.append(car_image)\n",
    "                angles.append(steer_angle)\n",
    "                \n",
    "            \n",
    "            \n",
    "            X_train = np.array(images)\n",
    "            y_train = np.array(angles)\n",
    "            yield sklearn.utils.shuffle(X_train, y_train)\n",
    "\n",
    "# compile and train the model using the generator function\n",
    "train_generator = generator(train_samples, batch_size=BATCH_SIZE)\n",
    "validation_generator = generator(validation_samples, batch_size=BATCH_SIZE)\n",
    "\n",
    "\n"
   ]
  },
  {
   "cell_type": "markdown",
   "metadata": {},
   "source": [
    "### Example of augmented training data"
   ]
  },
  {
   "cell_type": "code",
   "execution_count": null,
   "metadata": {
    "collapsed": true
   },
   "outputs": [],
   "source": [
    "\n",
    "\n",
    "#a,b = next(train_generator)\n",
    "print('Image Shape = ',np.shape(a[0]))\n",
    "#print(a)\n",
    "#print(b)\n",
    "bgr_image = (cv2.split(a[0]))\n",
    "rgb_image = cv2.merge(bgr_image[::-1])\n",
    "\n",
    "rgb_image, delta_angle = image_offset(rgb_image)\n",
    "rgb_image = image_rotate(rgb_image)\n",
    "rgb_image, sign_angle = image_flip(rgb_image)\n",
    "plt.imshow(rgb_image)\n",
    "plt.title('Steering Angle = ' + str(sign_angle * (b[0] + delta_angle)))\n",
    "plt.show()"
   ]
  },
  {
   "cell_type": "markdown",
   "metadata": {},
   "source": [
    "### Keras Model Definition\n"
   ]
  },
  {
   "cell_type": "code",
   "execution_count": 12,
   "metadata": {},
   "outputs": [],
   "source": [
    "from keras.models import Sequential\n",
    "from keras.layers.core import Dense, Activation, Flatten, Lambda, Dropout\n",
    "from keras.layers.convolutional import Convolution2D\n",
    "from keras.layers.pooling import MaxPooling2D\n",
    "from keras.layers import Cropping2D\n",
    "from keras import backend as K\n",
    "\n",
    "\n",
    "row, col, ch = 160, 320, 3  # Trimmed image format\n",
    "\n",
    "model = Sequential()\n",
    "\n",
    "# Crop top and bottom off image and resize to reduce computation time\n",
    "model.add(Cropping2D(cropping=((35,25), (0,0)), input_shape=(row, col, ch)))\n",
    "model.add(Lambda(lambda image: K.tf.image.resize_images(image, (64,64))))\n",
    "\n",
    "# Preprocess incoming data, centered around zero with small standard deviation \n",
    "model.add(Lambda(lambda x: x/127.5 - 1.))\n",
    "\n",
    "# Nvidia-style normalized input planes\n",
    "model.add(Convolution2D(3, 1, 1))  #1x1 for color mapping\n",
    "\n",
    "# 3 Convolution 3x3 layers followed by a Max Pool\n",
    "model.add(Convolution2D(16, 3, 3))  #3x3 \n",
    "model.add(Convolution2D(16, 3, 3))  #3x3\n",
    "model.add(Convolution2D(16, 3, 3))  #3x3\n",
    "model.add(MaxPooling2D((2, 2)))     #2x2 Max Pool\n",
    "model.add(Dropout(0.3))             #Dropout - keep 30%\n",
    "\n",
    "# 3 more Convolutional 3x3 layers \n",
    "model.add(Convolution2D(32, 3, 3))  #3x3\n",
    "model.add(Convolution2D(32, 3, 3))  #3x3\n",
    "model.add(Convolution2D(16, 3, 3))  #3x3\n",
    "model.add(Dropout(0.3))             #Dropout - keep 30%\n",
    "\n",
    "# Flatten and 2 hidden layers before final dense layer\n",
    "model.add(Flatten())\n",
    "model.add(Dense(15))\n",
    "model.add(Dense(35))\n",
    "model.add(Dense(1))\n"
   ]
  },
  {
   "cell_type": "markdown",
   "metadata": {},
   "source": [
    "### Model Training"
   ]
  },
  {
   "cell_type": "code",
   "execution_count": 13,
   "metadata": {},
   "outputs": [
    {
     "name": "stdout",
     "output_type": "stream",
     "text": [
      "Epoch 1/7\n",
      "5764/5764 [==============================] - 11s - loss: 0.0589 - val_loss: 0.0349\n",
      "Epoch 2/7\n",
      "5764/5764 [==============================] - 11s - loss: 0.0334 - val_loss: 0.0281\n",
      "Epoch 3/7\n",
      "5764/5764 [==============================] - 11s - loss: 0.0296 - val_loss: 0.0292\n",
      "Epoch 4/7\n",
      "5764/5764 [==============================] - 11s - loss: 0.0285 - val_loss: 0.0263\n",
      "Epoch 5/7\n",
      "5764/5764 [==============================] - 11s - loss: 0.0272 - val_loss: 0.0270\n",
      "Epoch 6/7\n",
      "5764/5764 [==============================] - 11s - loss: 0.0270 - val_loss: 0.0280\n",
      "Epoch 7/7\n",
      "5764/5764 [==============================] - 11s - loss: 0.0265 - val_loss: 0.0223\n"
     ]
    }
   ],
   "source": [
    "# Train model using Mean Squared Error function\n",
    "model.compile(loss='mse', optimizer='adam')\n",
    "history = model.fit_generator(train_generator, samples_per_epoch= \\\n",
    "            len(train_samples), validation_data=validation_generator, \\\n",
    "            nb_val_samples=len(validation_samples), nb_epoch=7, verbose=1)\n",
    "\n",
    "# Save trained model\n",
    "model.save('model.h5')"
   ]
  },
  {
   "cell_type": "code",
   "execution_count": null,
   "metadata": {
    "collapsed": true
   },
   "outputs": [],
   "source": []
  },
  {
   "cell_type": "code",
   "execution_count": 14,
   "metadata": {},
   "outputs": [
    {
     "data": {
      "image/png": "[encoded data removed]",
      "text/plain": [
       "<matplotlib.figure.Figure at 0x7f1998fecb70>"
      ]
     },
     "metadata": {},
     "output_type": "display_data"
    }
   ],
   "source": [
    "### plot the training and validation loss for each epoch\n",
    "plt.plot(history.history['loss'])\n",
    "plt.plot(history.history['val_loss'])\n",
    "#plt.axis([0,4,0,2])\n",
    "plt.title('model mean squared error loss')\n",
    "plt.ylabel('mean squared error loss')\n",
    "plt.xlabel('epoch')\n",
    "plt.legend(['training set', 'validation set'], loc='upper right')\n",
    "plt.show()"
   ]
  },
  {
   "cell_type": "code",
   "execution_count": null,
   "metadata": {
    "collapsed": true
   },
   "outputs": [],
   "source": []
  }
 ],
 "metadata": {
  "kernelspec": {
   "display_name": "Python 3",
   "language": "python",
   "name": "python3"
  },
  "language_info": {
   "codemirror_mode": {
    "name": "ipython",
    "version": 3
   },
   "file_extension": ".py",
   "mimetype": "text/x-python",
   "name": "python",
   "nbconvert_exporter": "python",
   "pygments_lexer": "ipython3",
   "version": "3.5.2"
  },
  "widgets": {
   "state": {},
   "version": "1.1.2"
  }
 },
 "nbformat": 4,
 "nbformat_minor": 2
}
